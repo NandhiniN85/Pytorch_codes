{
  "nbformat": 4,
  "nbformat_minor": 0,
  "metadata": {
    "colab": {
      "name": "Pytorch_pretrained.ipynb",
      "provenance": [],
      "collapsed_sections": []
    },
    "kernelspec": {
      "name": "python3",
      "display_name": "Python 3"
    },
    "language_info": {
      "name": "python"
    },
    "accelerator": "GPU",
    "widgets": {
      "application/vnd.jupyter.widget-state+json": {
        "31724ef412d14d268ae5aada8ede1e35": {
          "model_module": "@jupyter-widgets/controls",
          "model_name": "HBoxModel",
          "model_module_version": "1.5.0",
          "state": {
            "_view_name": "HBoxView",
            "_dom_classes": [],
            "_model_name": "HBoxModel",
            "_view_module": "@jupyter-widgets/controls",
            "_model_module_version": "1.5.0",
            "_view_count": null,
            "_view_module_version": "1.5.0",
            "box_style": "",
            "layout": "IPY_MODEL_3e42c0b2289b4fba9335851363ac87b6",
            "_model_module": "@jupyter-widgets/controls",
            "children": [
              "IPY_MODEL_acf422e8dd484ce0b66ac2fbd2602414",
              "IPY_MODEL_330cbd358b304606ab5f15050b7069c6",
              "IPY_MODEL_d9b7cf66cb634e8090d9c40c6643148b"
            ]
          }
        },
        "3e42c0b2289b4fba9335851363ac87b6": {
          "model_module": "@jupyter-widgets/base",
          "model_name": "LayoutModel",
          "model_module_version": "1.2.0",
          "state": {
            "_view_name": "LayoutView",
            "grid_template_rows": null,
            "right": null,
            "justify_content": null,
            "_view_module": "@jupyter-widgets/base",
            "overflow": null,
            "_model_module_version": "1.2.0",
            "_view_count": null,
            "flex_flow": null,
            "width": null,
            "min_width": null,
            "border": null,
            "align_items": null,
            "bottom": null,
            "_model_module": "@jupyter-widgets/base",
            "top": null,
            "grid_column": null,
            "overflow_y": null,
            "overflow_x": null,
            "grid_auto_flow": null,
            "grid_area": null,
            "grid_template_columns": null,
            "flex": null,
            "_model_name": "LayoutModel",
            "justify_items": null,
            "grid_row": null,
            "max_height": null,
            "align_content": null,
            "visibility": null,
            "align_self": null,
            "height": null,
            "min_height": null,
            "padding": null,
            "grid_auto_rows": null,
            "grid_gap": null,
            "max_width": null,
            "order": null,
            "_view_module_version": "1.2.0",
            "grid_template_areas": null,
            "object_position": null,
            "object_fit": null,
            "grid_auto_columns": null,
            "margin": null,
            "display": null,
            "left": null
          }
        },
        "acf422e8dd484ce0b66ac2fbd2602414": {
          "model_module": "@jupyter-widgets/controls",
          "model_name": "HTMLModel",
          "model_module_version": "1.5.0",
          "state": {
            "_view_name": "HTMLView",
            "style": "IPY_MODEL_3dada8c63f634bcfa5f3feeb024adf74",
            "_dom_classes": [],
            "description": "",
            "_model_name": "HTMLModel",
            "placeholder": "​",
            "_view_module": "@jupyter-widgets/controls",
            "_model_module_version": "1.5.0",
            "value": "100%",
            "_view_count": null,
            "_view_module_version": "1.5.0",
            "description_tooltip": null,
            "_model_module": "@jupyter-widgets/controls",
            "layout": "IPY_MODEL_8feafe69d93b438fb7870a3c21b64025"
          }
        },
        "330cbd358b304606ab5f15050b7069c6": {
          "model_module": "@jupyter-widgets/controls",
          "model_name": "FloatProgressModel",
          "model_module_version": "1.5.0",
          "state": {
            "_view_name": "ProgressView",
            "style": "IPY_MODEL_9e85550d078142b8ad148b480cb78dc8",
            "_dom_classes": [],
            "description": "",
            "_model_name": "FloatProgressModel",
            "bar_style": "success",
            "max": 14212972,
            "_view_module": "@jupyter-widgets/controls",
            "_model_module_version": "1.5.0",
            "value": 14212972,
            "_view_count": null,
            "_view_module_version": "1.5.0",
            "orientation": "horizontal",
            "min": 0,
            "description_tooltip": null,
            "_model_module": "@jupyter-widgets/controls",
            "layout": "IPY_MODEL_be3ba803884a450fab63a222b8eecba5"
          }
        },
        "d9b7cf66cb634e8090d9c40c6643148b": {
          "model_module": "@jupyter-widgets/controls",
          "model_name": "HTMLModel",
          "model_module_version": "1.5.0",
          "state": {
            "_view_name": "HTMLView",
            "style": "IPY_MODEL_a7f0e6cfbf524d27ae6cf1a90307abf7",
            "_dom_classes": [],
            "description": "",
            "_model_name": "HTMLModel",
            "placeholder": "​",
            "_view_module": "@jupyter-widgets/controls",
            "_model_module_version": "1.5.0",
            "value": " 13.6M/13.6M [00:00&lt;00:00, 48.3MB/s]",
            "_view_count": null,
            "_view_module_version": "1.5.0",
            "description_tooltip": null,
            "_model_module": "@jupyter-widgets/controls",
            "layout": "IPY_MODEL_87c71e82f3ce459d84e43c08f0702c01"
          }
        },
        "3dada8c63f634bcfa5f3feeb024adf74": {
          "model_module": "@jupyter-widgets/controls",
          "model_name": "DescriptionStyleModel",
          "model_module_version": "1.5.0",
          "state": {
            "_view_name": "StyleView",
            "_model_name": "DescriptionStyleModel",
            "description_width": "",
            "_view_module": "@jupyter-widgets/base",
            "_model_module_version": "1.5.0",
            "_view_count": null,
            "_view_module_version": "1.2.0",
            "_model_module": "@jupyter-widgets/controls"
          }
        },
        "8feafe69d93b438fb7870a3c21b64025": {
          "model_module": "@jupyter-widgets/base",
          "model_name": "LayoutModel",
          "model_module_version": "1.2.0",
          "state": {
            "_view_name": "LayoutView",
            "grid_template_rows": null,
            "right": null,
            "justify_content": null,
            "_view_module": "@jupyter-widgets/base",
            "overflow": null,
            "_model_module_version": "1.2.0",
            "_view_count": null,
            "flex_flow": null,
            "width": null,
            "min_width": null,
            "border": null,
            "align_items": null,
            "bottom": null,
            "_model_module": "@jupyter-widgets/base",
            "top": null,
            "grid_column": null,
            "overflow_y": null,
            "overflow_x": null,
            "grid_auto_flow": null,
            "grid_area": null,
            "grid_template_columns": null,
            "flex": null,
            "_model_name": "LayoutModel",
            "justify_items": null,
            "grid_row": null,
            "max_height": null,
            "align_content": null,
            "visibility": null,
            "align_self": null,
            "height": null,
            "min_height": null,
            "padding": null,
            "grid_auto_rows": null,
            "grid_gap": null,
            "max_width": null,
            "order": null,
            "_view_module_version": "1.2.0",
            "grid_template_areas": null,
            "object_position": null,
            "object_fit": null,
            "grid_auto_columns": null,
            "margin": null,
            "display": null,
            "left": null
          }
        },
        "9e85550d078142b8ad148b480cb78dc8": {
          "model_module": "@jupyter-widgets/controls",
          "model_name": "ProgressStyleModel",
          "model_module_version": "1.5.0",
          "state": {
            "_view_name": "StyleView",
            "_model_name": "ProgressStyleModel",
            "description_width": "",
            "_view_module": "@jupyter-widgets/base",
            "_model_module_version": "1.5.0",
            "_view_count": null,
            "_view_module_version": "1.2.0",
            "bar_color": null,
            "_model_module": "@jupyter-widgets/controls"
          }
        },
        "be3ba803884a450fab63a222b8eecba5": {
          "model_module": "@jupyter-widgets/base",
          "model_name": "LayoutModel",
          "model_module_version": "1.2.0",
          "state": {
            "_view_name": "LayoutView",
            "grid_template_rows": null,
            "right": null,
            "justify_content": null,
            "_view_module": "@jupyter-widgets/base",
            "overflow": null,
            "_model_module_version": "1.2.0",
            "_view_count": null,
            "flex_flow": null,
            "width": null,
            "min_width": null,
            "border": null,
            "align_items": null,
            "bottom": null,
            "_model_module": "@jupyter-widgets/base",
            "top": null,
            "grid_column": null,
            "overflow_y": null,
            "overflow_x": null,
            "grid_auto_flow": null,
            "grid_area": null,
            "grid_template_columns": null,
            "flex": null,
            "_model_name": "LayoutModel",
            "justify_items": null,
            "grid_row": null,
            "max_height": null,
            "align_content": null,
            "visibility": null,
            "align_self": null,
            "height": null,
            "min_height": null,
            "padding": null,
            "grid_auto_rows": null,
            "grid_gap": null,
            "max_width": null,
            "order": null,
            "_view_module_version": "1.2.0",
            "grid_template_areas": null,
            "object_position": null,
            "object_fit": null,
            "grid_auto_columns": null,
            "margin": null,
            "display": null,
            "left": null
          }
        },
        "a7f0e6cfbf524d27ae6cf1a90307abf7": {
          "model_module": "@jupyter-widgets/controls",
          "model_name": "DescriptionStyleModel",
          "model_module_version": "1.5.0",
          "state": {
            "_view_name": "StyleView",
            "_model_name": "DescriptionStyleModel",
            "description_width": "",
            "_view_module": "@jupyter-widgets/base",
            "_model_module_version": "1.5.0",
            "_view_count": null,
            "_view_module_version": "1.2.0",
            "_model_module": "@jupyter-widgets/controls"
          }
        },
        "87c71e82f3ce459d84e43c08f0702c01": {
          "model_module": "@jupyter-widgets/base",
          "model_name": "LayoutModel",
          "model_module_version": "1.2.0",
          "state": {
            "_view_name": "LayoutView",
            "grid_template_rows": null,
            "right": null,
            "justify_content": null,
            "_view_module": "@jupyter-widgets/base",
            "overflow": null,
            "_model_module_version": "1.2.0",
            "_view_count": null,
            "flex_flow": null,
            "width": null,
            "min_width": null,
            "border": null,
            "align_items": null,
            "bottom": null,
            "_model_module": "@jupyter-widgets/base",
            "top": null,
            "grid_column": null,
            "overflow_y": null,
            "overflow_x": null,
            "grid_auto_flow": null,
            "grid_area": null,
            "grid_template_columns": null,
            "flex": null,
            "_model_name": "LayoutModel",
            "justify_items": null,
            "grid_row": null,
            "max_height": null,
            "align_content": null,
            "visibility": null,
            "align_self": null,
            "height": null,
            "min_height": null,
            "padding": null,
            "grid_auto_rows": null,
            "grid_gap": null,
            "max_width": null,
            "order": null,
            "_view_module_version": "1.2.0",
            "grid_template_areas": null,
            "object_position": null,
            "object_fit": null,
            "grid_auto_columns": null,
            "margin": null,
            "display": null,
            "left": null
          }
        }
      }
    }
  },
  "cells": [
    {
      "cell_type": "code",
      "metadata": {
        "colab": {
          "base_uri": "https://localhost:8080/"
        },
        "id": "OnnZ4y9Y7xla",
        "outputId": "b545fab0-653e-497b-c38a-71271f00e55f"
      },
      "source": [
        "#we need to use curl command to download the dataset from the roboflow and also specifying the unique id\n",
        "!curl -L \"your key\" > roboflow.zip; unzip roboflow.zip; rm roboflow.zip"
      ],
      "execution_count": 30,
      "outputs": [
        {
          "output_type": "stream",
          "name": "stdout",
          "text": [
            "curl: (3) Host name 'your key' contains bad letter\n",
            "Archive:  roboflow.zip\n",
            "  End-of-central-directory signature not found.  Either this file is not\n",
            "  a zipfile, or it constitutes one disk of a multi-part archive.  In the\n",
            "  latter case the central directory and zipfile comment will be found on\n",
            "  the last disk(s) of this archive.\n",
            "unzip:  cannot find zipfile directory in one of roboflow.zip or\n",
            "        roboflow.zip.zip, and cannot find roboflow.zip.ZIP, period.\n"
          ]
        }
      ]
    },
    {
      "cell_type": "code",
      "metadata": {
        "id": "JD_EcsgK8jsY"
      },
      "source": [
        "#we will use a pretrained MobileNetV2 classifier for custom requirement\n",
        "#The pretrained models are available in the library torchvision.models\n",
        "\n",
        "from torchvision import models\n",
        "from torchsummary import summary\n",
        "import torch\n",
        "from torch import nn\n",
        "from torch.optim import Adam"
      ],
      "execution_count": 2,
      "outputs": []
    },
    {
      "cell_type": "code",
      "metadata": {
        "id": "dXScj0QM-u5z",
        "colab": {
          "base_uri": "https://localhost:8080/",
          "height": 86,
          "referenced_widgets": [
            "31724ef412d14d268ae5aada8ede1e35",
            "3e42c0b2289b4fba9335851363ac87b6",
            "acf422e8dd484ce0b66ac2fbd2602414",
            "330cbd358b304606ab5f15050b7069c6",
            "d9b7cf66cb634e8090d9c40c6643148b",
            "3dada8c63f634bcfa5f3feeb024adf74",
            "8feafe69d93b438fb7870a3c21b64025",
            "9e85550d078142b8ad148b480cb78dc8",
            "be3ba803884a450fab63a222b8eecba5",
            "a7f0e6cfbf524d27ae6cf1a90307abf7",
            "87c71e82f3ce459d84e43c08f0702c01"
          ]
        },
        "outputId": "ad4d3b54-657c-4ff8-9923-89fe58bfaa37"
      },
      "source": [
        "custom_model = models.mobilenet_v2(pretrained=True)"
      ],
      "execution_count": 3,
      "outputs": [
        {
          "output_type": "stream",
          "name": "stderr",
          "text": [
            "Downloading: \"https://download.pytorch.org/models/mobilenet_v2-b0353104.pth\" to /root/.cache/torch/hub/checkpoints/mobilenet_v2-b0353104.pth\n"
          ]
        },
        {
          "output_type": "display_data",
          "data": {
            "application/vnd.jupyter.widget-view+json": {
              "model_id": "31724ef412d14d268ae5aada8ede1e35",
              "version_minor": 0,
              "version_major": 2
            },
            "text/plain": [
              "  0%|          | 0.00/13.6M [00:00<?, ?B/s]"
            ]
          },
          "metadata": {}
        }
      ]
    },
    {
      "cell_type": "code",
      "metadata": {
        "colab": {
          "base_uri": "https://localhost:8080/"
        },
        "id": "J4QyilU5Ey-W",
        "outputId": "e0365703-e480-4152-d286-d46bae092516"
      },
      "source": [
        "#The next step is to findout the name of the last layer where we can replace the parameters according to our requirement\n",
        "#for that we can use named_children() function which displays the name of the layers\n",
        "\n",
        "for name, model in custom_model.named_children():\n",
        "  print(name)"
      ],
      "execution_count": 7,
      "outputs": [
        {
          "output_type": "stream",
          "name": "stdout",
          "text": [
            "features\n",
            "classifier\n"
          ]
        }
      ]
    },
    {
      "cell_type": "code",
      "metadata": {
        "colab": {
          "base_uri": "https://localhost:8080/"
        },
        "id": "5uZxS1E1-RqH",
        "outputId": "004d3370-d5c4-44aa-9129-0143bea2e601"
      },
      "source": [
        "#The main blocks are features and classifiers\n",
        "#Let's display the individual components\n",
        "\n",
        "custom_model.classifier"
      ],
      "execution_count": 19,
      "outputs": [
        {
          "output_type": "execute_result",
          "data": {
            "text/plain": [
              "Sequential(\n",
              "  (0): Dropout(p=0.2, inplace=False)\n",
              "  (1): Linear(in_features=1280, out_features=1000, bias=True)\n",
              ")"
            ]
          },
          "metadata": {},
          "execution_count": 19
        }
      ]
    },
    {
      "cell_type": "code",
      "metadata": {
        "id": "XiOH6ACv_VrJ"
      },
      "source": [
        "#similar way we can check the features as well\n",
        "#features comprise of the convolutional, maxpooling blocks"
      ],
      "execution_count": 20,
      "outputs": []
    },
    {
      "cell_type": "code",
      "metadata": {
        "colab": {
          "base_uri": "https://localhost:8080/"
        },
        "id": "n-ehK_Kp_44w",
        "outputId": "c2f5f3a6-3286-461e-d558-01c74098ac2d"
      },
      "source": [
        "#since the above corrsponds to imagenet setup, we can see the last layer has 1000 classes\n",
        "#And also we can either freeze the already trained model layers or unfreeze them\n",
        "#This can be done by giving the command requires_grad = False, means layers are frozen\n",
        "#for the above there is no training happens\n",
        "\n",
        "for param in custom_model.parameters():\n",
        "  param.requires_grad = False\n",
        "\n",
        "#since it is a binary classification, the output will have two classes \n",
        "\n",
        "#if we have a GPU available, then we can use cuda\n",
        "device = torch.device(\"cuda\" if torch.cuda.is_available() else \"cpu\")\n",
        "\n",
        "device"
      ],
      "execution_count": 21,
      "outputs": [
        {
          "output_type": "execute_result",
          "data": {
            "text/plain": [
              "device(type='cuda')"
            ]
          },
          "metadata": {},
          "execution_count": 21
        }
      ]
    },
    {
      "cell_type": "code",
      "metadata": {
        "colab": {
          "base_uri": "https://localhost:8080/"
        },
        "id": "9VysZwLqAh-c",
        "outputId": "1faffe51-1f96-495d-f1f8-36ad08ac912f"
      },
      "source": [
        "num_ftrs = custom_model.classifier[1].in_features\n",
        "print('number of input features to the last linear layer:', num_ftrs)\n",
        "\n",
        "#now we need to update the last layer to output only two classes\n",
        "custom_model.classifier[1] = nn.Linear(num_ftrs, 2)"
      ],
      "execution_count": 22,
      "outputs": [
        {
          "output_type": "stream",
          "name": "stdout",
          "text": [
            "number of input features to the last linear layer: 1280\n"
          ]
        }
      ]
    },
    {
      "cell_type": "code",
      "metadata": {
        "colab": {
          "base_uri": "https://localhost:8080/"
        },
        "id": "QCJ6H6KrCwpZ",
        "outputId": "87652479-6915-4827-8c7d-8f0d4bdea7bb"
      },
      "source": [
        "#lets print the last layer and see whether the update has been reflected\n",
        "custom_model.classifier"
      ],
      "execution_count": 24,
      "outputs": [
        {
          "output_type": "execute_result",
          "data": {
            "text/plain": [
              "Sequential(\n",
              "  (0): Dropout(p=0.2, inplace=False)\n",
              "  (1): Linear(in_features=1280, out_features=2, bias=True)\n",
              ")"
            ]
          },
          "metadata": {},
          "execution_count": 24
        }
      ]
    },
    {
      "cell_type": "markdown",
      "metadata": {
        "id": "ugzZ5R_aGN7P"
      },
      "source": [
        "From the above definition we can see the output size is 2 corresponding to two categories."
      ]
    },
    {
      "cell_type": "code",
      "metadata": {
        "id": "1ayvjVupDvae"
      },
      "source": [
        "#converting to cuda format\n",
        "custom_model =  custom_model.to(device)"
      ],
      "execution_count": 25,
      "outputs": []
    },
    {
      "cell_type": "code",
      "metadata": {
        "id": "jW1QD3yoGkmt"
      },
      "source": [
        "#setting up dataloader(multiple smaller batches). Since we do not process all the training\n",
        "#samples at one go, we use dataloaders for processing multiple data chunks\n",
        "from torch.utils.data import DataLoader\n",
        "from torchvision import datasets, transforms\n",
        "from torchvision.transforms import ToTensor, Resize"
      ],
      "execution_count": 26,
      "outputs": []
    },
    {
      "cell_type": "code",
      "metadata": {
        "id": "Zfg7uiG5HM7j"
      },
      "source": [
        "#define the path details from where the images should be retried\n",
        "train_dataset = datasets.ImageFolder(root = '/content/train', transform = transforms.Compose([Resize((224,224)),ToTensor()]))\n",
        "val_dataset = datasets.ImageFolder(root='/content/valid', transform=transforms.Compose([Resize((224,224)),ToTensor()]))\n",
        "\n",
        "train_loader = DataLoader(train_dataset, batch_size=32, shuffle=True)\n",
        "val_loader = DataLoader(val_dataset, batch_size = 32, shuffle=True)"
      ],
      "execution_count": 27,
      "outputs": []
    },
    {
      "cell_type": "code",
      "metadata": {
        "id": "E10VbdgHIQR5"
      },
      "source": [
        "#for loss function we can use the cross entropy function\n",
        "loss_func = nn.CrossEntropyLoss()\n",
        "opt = Adam(custom_model.parameters(), lr = 0.001)"
      ],
      "execution_count": 28,
      "outputs": []
    },
    {
      "cell_type": "code",
      "metadata": {
        "colab": {
          "base_uri": "https://localhost:8080/"
        },
        "id": "I7xeodIwIuO7",
        "outputId": "739f447c-a0e6-4d5b-fe46-dbb3d7e205a2"
      },
      "source": [
        "epochs = 10\n",
        "\n",
        "for e in range(0, epochs):\n",
        "  custom_model.train()\n",
        "\n",
        "  totalTrainLoss = 0\n",
        "  totalValLoss = 0\n",
        "\n",
        "  trainCorrect = 0\n",
        "  valCorrect = 0\n",
        "\n",
        "  for (x, y) in train_loader:\n",
        "    (x,y) = (x.to(device), y.to(device))\n",
        "\n",
        "    pred = custom_model(x)\n",
        "    loss = loss_func(pred, y)\n",
        "\n",
        "    opt.zero_grad()\n",
        "    loss.backward()\n",
        "    opt.step()\n",
        "\n",
        "    totalTrainLoss += loss\n",
        "    trainCorrect += (pred.argmax(1) == y).type(torch.float).sum().item()\n",
        "\n",
        "  print('Train loss for the epoch'+ str(e)+'is:',totalTrainLoss)\n",
        "  print('Number of correctly predicted outputs for the epoch' + str(e)+ 'is:', trainCorrect)"
      ],
      "execution_count": 29,
      "outputs": [
        {
          "output_type": "stream",
          "name": "stdout",
          "text": [
            "Train loss for the epoch0is: tensor(15.8482, device='cuda:0', grad_fn=<AddBackward0>)\n",
            "Number of correctly predicted outputs for the epoch0is: 1062.0\n",
            "Train loss for the epoch1is: tensor(8.6196, device='cuda:0', grad_fn=<AddBackward0>)\n",
            "Number of correctly predicted outputs for the epoch1is: 1175.0\n",
            "Train loss for the epoch2is: tensor(7.4713, device='cuda:0', grad_fn=<AddBackward0>)\n",
            "Number of correctly predicted outputs for the epoch2is: 1177.0\n",
            "Train loss for the epoch3is: tensor(6.5840, device='cuda:0', grad_fn=<AddBackward0>)\n",
            "Number of correctly predicted outputs for the epoch3is: 1198.0\n",
            "Train loss for the epoch4is: tensor(6.2062, device='cuda:0', grad_fn=<AddBackward0>)\n",
            "Number of correctly predicted outputs for the epoch4is: 1193.0\n",
            "Train loss for the epoch5is: tensor(5.6925, device='cuda:0', grad_fn=<AddBackward0>)\n",
            "Number of correctly predicted outputs for the epoch5is: 1201.0\n",
            "Train loss for the epoch6is: tensor(5.0672, device='cuda:0', grad_fn=<AddBackward0>)\n",
            "Number of correctly predicted outputs for the epoch6is: 1211.0\n",
            "Train loss for the epoch7is: tensor(5.1768, device='cuda:0', grad_fn=<AddBackward0>)\n",
            "Number of correctly predicted outputs for the epoch7is: 1214.0\n",
            "Train loss for the epoch8is: tensor(5.3444, device='cuda:0', grad_fn=<AddBackward0>)\n",
            "Number of correctly predicted outputs for the epoch8is: 1213.0\n",
            "Train loss for the epoch9is: tensor(5.6113, device='cuda:0', grad_fn=<AddBackward0>)\n",
            "Number of correctly predicted outputs for the epoch9is: 1205.0\n"
          ]
        }
      ]
    },
    {
      "cell_type": "code",
      "metadata": {
        "id": "xD4QGveNJIzs"
      },
      "source": [
        ""
      ],
      "execution_count": null,
      "outputs": []
    }
  ]
}