{
  "nbformat": 4,
  "nbformat_minor": 0,
  "metadata": {
    "colab": {
      "name": "Siamese + wandb.ipynb",
      "provenance": [],
      "collapsed_sections": []
    },
    "kernelspec": {
      "name": "python3",
      "display_name": "Python 3"
    },
    "language_info": {
      "name": "python"
    },
    "accelerator": "GPU",
    "widgets": {
      "application/vnd.jupyter.widget-state+json": {
        "78bc39781abf4f25911543f9b581d1ca": {
          "model_module": "@jupyter-widgets/controls",
          "model_name": "HBoxModel",
          "model_module_version": "1.5.0",
          "state": {
            "_view_name": "HBoxView",
            "_dom_classes": [],
            "_model_name": "HBoxModel",
            "_view_module": "@jupyter-widgets/controls",
            "_model_module_version": "1.5.0",
            "_view_count": null,
            "_view_module_version": "1.5.0",
            "box_style": "",
            "layout": "IPY_MODEL_fa63ce6b735d4bbb9cc9566b92367f6b",
            "_model_module": "@jupyter-widgets/controls",
            "children": [
              "IPY_MODEL_98decf99259f44e897fe71bdbf1b792a",
              "IPY_MODEL_9c6f5f19264744988c6060d5ee3e6b08",
              "IPY_MODEL_b69a925fa8314fda991efe1e583b3ca9"
            ]
          }
        },
        "fa63ce6b735d4bbb9cc9566b92367f6b": {
          "model_module": "@jupyter-widgets/base",
          "model_name": "LayoutModel",
          "model_module_version": "1.2.0",
          "state": {
            "_view_name": "LayoutView",
            "grid_template_rows": null,
            "right": null,
            "justify_content": null,
            "_view_module": "@jupyter-widgets/base",
            "overflow": null,
            "_model_module_version": "1.2.0",
            "_view_count": null,
            "flex_flow": null,
            "width": null,
            "min_width": null,
            "border": null,
            "align_items": null,
            "bottom": null,
            "_model_module": "@jupyter-widgets/base",
            "top": null,
            "grid_column": null,
            "overflow_y": null,
            "overflow_x": null,
            "grid_auto_flow": null,
            "grid_area": null,
            "grid_template_columns": null,
            "flex": null,
            "_model_name": "LayoutModel",
            "justify_items": null,
            "grid_row": null,
            "max_height": null,
            "align_content": null,
            "visibility": null,
            "align_self": null,
            "height": null,
            "min_height": null,
            "padding": null,
            "grid_auto_rows": null,
            "grid_gap": null,
            "max_width": null,
            "order": null,
            "_view_module_version": "1.2.0",
            "grid_template_areas": null,
            "object_position": null,
            "object_fit": null,
            "grid_auto_columns": null,
            "margin": null,
            "display": null,
            "left": null
          }
        },
        "98decf99259f44e897fe71bdbf1b792a": {
          "model_module": "@jupyter-widgets/controls",
          "model_name": "HTMLModel",
          "model_module_version": "1.5.0",
          "state": {
            "_view_name": "HTMLView",
            "style": "IPY_MODEL_1cc81550bd3b4889b15e0f0ae9ad8517",
            "_dom_classes": [],
            "description": "",
            "_model_name": "HTMLModel",
            "placeholder": "​",
            "_view_module": "@jupyter-widgets/controls",
            "_model_module_version": "1.5.0",
            "value": "100%",
            "_view_count": null,
            "_view_module_version": "1.5.0",
            "description_tooltip": null,
            "_model_module": "@jupyter-widgets/controls",
            "layout": "IPY_MODEL_cf8e6be6b9c74d0594d86132d4d7002b"
          }
        },
        "9c6f5f19264744988c6060d5ee3e6b08": {
          "model_module": "@jupyter-widgets/controls",
          "model_name": "FloatProgressModel",
          "model_module_version": "1.5.0",
          "state": {
            "_view_name": "ProgressView",
            "style": "IPY_MODEL_ae357852f05d4bd481cc1c6169b6a1c9",
            "_dom_classes": [],
            "description": "",
            "_model_name": "FloatProgressModel",
            "bar_style": "success",
            "max": 241627721,
            "_view_module": "@jupyter-widgets/controls",
            "_model_module_version": "1.5.0",
            "value": 241627721,
            "_view_count": null,
            "_view_module_version": "1.5.0",
            "orientation": "horizontal",
            "min": 0,
            "description_tooltip": null,
            "_model_module": "@jupyter-widgets/controls",
            "layout": "IPY_MODEL_e430f4b027ae4b14a91483049d781a60"
          }
        },
        "b69a925fa8314fda991efe1e583b3ca9": {
          "model_module": "@jupyter-widgets/controls",
          "model_name": "HTMLModel",
          "model_module_version": "1.5.0",
          "state": {
            "_view_name": "HTMLView",
            "style": "IPY_MODEL_b08f65f4530247dcada5e14a6ebd7079",
            "_dom_classes": [],
            "description": "",
            "_model_name": "HTMLModel",
            "placeholder": "​",
            "_view_module": "@jupyter-widgets/controls",
            "_model_module_version": "1.5.0",
            "value": " 230M/230M [00:03&lt;00:00, 69.5MB/s]",
            "_view_count": null,
            "_view_module_version": "1.5.0",
            "description_tooltip": null,
            "_model_module": "@jupyter-widgets/controls",
            "layout": "IPY_MODEL_bea37913627a485298a793ba4310972c"
          }
        },
        "1cc81550bd3b4889b15e0f0ae9ad8517": {
          "model_module": "@jupyter-widgets/controls",
          "model_name": "DescriptionStyleModel",
          "model_module_version": "1.5.0",
          "state": {
            "_view_name": "StyleView",
            "_model_name": "DescriptionStyleModel",
            "description_width": "",
            "_view_module": "@jupyter-widgets/base",
            "_model_module_version": "1.5.0",
            "_view_count": null,
            "_view_module_version": "1.2.0",
            "_model_module": "@jupyter-widgets/controls"
          }
        },
        "cf8e6be6b9c74d0594d86132d4d7002b": {
          "model_module": "@jupyter-widgets/base",
          "model_name": "LayoutModel",
          "model_module_version": "1.2.0",
          "state": {
            "_view_name": "LayoutView",
            "grid_template_rows": null,
            "right": null,
            "justify_content": null,
            "_view_module": "@jupyter-widgets/base",
            "overflow": null,
            "_model_module_version": "1.2.0",
            "_view_count": null,
            "flex_flow": null,
            "width": null,
            "min_width": null,
            "border": null,
            "align_items": null,
            "bottom": null,
            "_model_module": "@jupyter-widgets/base",
            "top": null,
            "grid_column": null,
            "overflow_y": null,
            "overflow_x": null,
            "grid_auto_flow": null,
            "grid_area": null,
            "grid_template_columns": null,
            "flex": null,
            "_model_name": "LayoutModel",
            "justify_items": null,
            "grid_row": null,
            "max_height": null,
            "align_content": null,
            "visibility": null,
            "align_self": null,
            "height": null,
            "min_height": null,
            "padding": null,
            "grid_auto_rows": null,
            "grid_gap": null,
            "max_width": null,
            "order": null,
            "_view_module_version": "1.2.0",
            "grid_template_areas": null,
            "object_position": null,
            "object_fit": null,
            "grid_auto_columns": null,
            "margin": null,
            "display": null,
            "left": null
          }
        },
        "ae357852f05d4bd481cc1c6169b6a1c9": {
          "model_module": "@jupyter-widgets/controls",
          "model_name": "ProgressStyleModel",
          "model_module_version": "1.5.0",
          "state": {
            "_view_name": "StyleView",
            "_model_name": "ProgressStyleModel",
            "description_width": "",
            "_view_module": "@jupyter-widgets/base",
            "_model_module_version": "1.5.0",
            "_view_count": null,
            "_view_module_version": "1.2.0",
            "bar_color": null,
            "_model_module": "@jupyter-widgets/controls"
          }
        },
        "e430f4b027ae4b14a91483049d781a60": {
          "model_module": "@jupyter-widgets/base",
          "model_name": "LayoutModel",
          "model_module_version": "1.2.0",
          "state": {
            "_view_name": "LayoutView",
            "grid_template_rows": null,
            "right": null,
            "justify_content": null,
            "_view_module": "@jupyter-widgets/base",
            "overflow": null,
            "_model_module_version": "1.2.0",
            "_view_count": null,
            "flex_flow": null,
            "width": null,
            "min_width": null,
            "border": null,
            "align_items": null,
            "bottom": null,
            "_model_module": "@jupyter-widgets/base",
            "top": null,
            "grid_column": null,
            "overflow_y": null,
            "overflow_x": null,
            "grid_auto_flow": null,
            "grid_area": null,
            "grid_template_columns": null,
            "flex": null,
            "_model_name": "LayoutModel",
            "justify_items": null,
            "grid_row": null,
            "max_height": null,
            "align_content": null,
            "visibility": null,
            "align_self": null,
            "height": null,
            "min_height": null,
            "padding": null,
            "grid_auto_rows": null,
            "grid_gap": null,
            "max_width": null,
            "order": null,
            "_view_module_version": "1.2.0",
            "grid_template_areas": null,
            "object_position": null,
            "object_fit": null,
            "grid_auto_columns": null,
            "margin": null,
            "display": null,
            "left": null
          }
        },
        "b08f65f4530247dcada5e14a6ebd7079": {
          "model_module": "@jupyter-widgets/controls",
          "model_name": "DescriptionStyleModel",
          "model_module_version": "1.5.0",
          "state": {
            "_view_name": "StyleView",
            "_model_name": "DescriptionStyleModel",
            "description_width": "",
            "_view_module": "@jupyter-widgets/base",
            "_model_module_version": "1.5.0",
            "_view_count": null,
            "_view_module_version": "1.2.0",
            "_model_module": "@jupyter-widgets/controls"
          }
        },
        "bea37913627a485298a793ba4310972c": {
          "model_module": "@jupyter-widgets/base",
          "model_name": "LayoutModel",
          "model_module_version": "1.2.0",
          "state": {
            "_view_name": "LayoutView",
            "grid_template_rows": null,
            "right": null,
            "justify_content": null,
            "_view_module": "@jupyter-widgets/base",
            "overflow": null,
            "_model_module_version": "1.2.0",
            "_view_count": null,
            "flex_flow": null,
            "width": null,
            "min_width": null,
            "border": null,
            "align_items": null,
            "bottom": null,
            "_model_module": "@jupyter-widgets/base",
            "top": null,
            "grid_column": null,
            "overflow_y": null,
            "overflow_x": null,
            "grid_auto_flow": null,
            "grid_area": null,
            "grid_template_columns": null,
            "flex": null,
            "_model_name": "LayoutModel",
            "justify_items": null,
            "grid_row": null,
            "max_height": null,
            "align_content": null,
            "visibility": null,
            "align_self": null,
            "height": null,
            "min_height": null,
            "padding": null,
            "grid_auto_rows": null,
            "grid_gap": null,
            "max_width": null,
            "order": null,
            "_view_module_version": "1.2.0",
            "grid_template_areas": null,
            "object_position": null,
            "object_fit": null,
            "grid_auto_columns": null,
            "margin": null,
            "display": null,
            "left": null
          }
        },
        "523ae26dbdf74dd58da4b7809c4f67fe": {
          "model_module": "@jupyter-widgets/controls",
          "model_name": "VBoxModel",
          "model_module_version": "1.5.0",
          "state": {
            "_view_name": "VBoxView",
            "_dom_classes": [],
            "_model_name": "VBoxModel",
            "_view_module": "@jupyter-widgets/controls",
            "_model_module_version": "1.5.0",
            "_view_count": null,
            "_view_module_version": "1.5.0",
            "box_style": "",
            "layout": "IPY_MODEL_c23fbf50dafd4495911bf8c5f00c07d3",
            "_model_module": "@jupyter-widgets/controls",
            "children": [
              "IPY_MODEL_94b66184ad344dda88f24c6ed33c38a1",
              "IPY_MODEL_c93a1df0d27f41dc8a6c6dda5b78d92e"
            ]
          }
        },
        "c23fbf50dafd4495911bf8c5f00c07d3": {
          "model_module": "@jupyter-widgets/base",
          "model_name": "LayoutModel",
          "model_module_version": "1.2.0",
          "state": {
            "_view_name": "LayoutView",
            "grid_template_rows": null,
            "right": null,
            "justify_content": null,
            "_view_module": "@jupyter-widgets/base",
            "overflow": null,
            "_model_module_version": "1.2.0",
            "_view_count": null,
            "flex_flow": null,
            "width": null,
            "min_width": null,
            "border": null,
            "align_items": null,
            "bottom": null,
            "_model_module": "@jupyter-widgets/base",
            "top": null,
            "grid_column": null,
            "overflow_y": null,
            "overflow_x": null,
            "grid_auto_flow": null,
            "grid_area": null,
            "grid_template_columns": null,
            "flex": null,
            "_model_name": "LayoutModel",
            "justify_items": null,
            "grid_row": null,
            "max_height": null,
            "align_content": null,
            "visibility": null,
            "align_self": null,
            "height": null,
            "min_height": null,
            "padding": null,
            "grid_auto_rows": null,
            "grid_gap": null,
            "max_width": null,
            "order": null,
            "_view_module_version": "1.2.0",
            "grid_template_areas": null,
            "object_position": null,
            "object_fit": null,
            "grid_auto_columns": null,
            "margin": null,
            "display": null,
            "left": null
          }
        },
        "94b66184ad344dda88f24c6ed33c38a1": {
          "model_module": "@jupyter-widgets/controls",
          "model_name": "LabelModel",
          "model_module_version": "1.5.0",
          "state": {
            "_view_name": "LabelView",
            "style": "IPY_MODEL_41e609af58e946f3b864e60c3b57ae1f",
            "_dom_classes": [],
            "description": "",
            "_model_name": "LabelModel",
            "placeholder": "​",
            "_view_module": "@jupyter-widgets/controls",
            "_model_module_version": "1.5.0",
            "value": " 0.02MB of 0.02MB uploaded (0.00MB deduped)\r",
            "_view_count": null,
            "_view_module_version": "1.5.0",
            "description_tooltip": null,
            "_model_module": "@jupyter-widgets/controls",
            "layout": "IPY_MODEL_40a91307fb764bf1818cbca3cd157017"
          }
        },
        "c93a1df0d27f41dc8a6c6dda5b78d92e": {
          "model_module": "@jupyter-widgets/controls",
          "model_name": "FloatProgressModel",
          "model_module_version": "1.5.0",
          "state": {
            "_view_name": "ProgressView",
            "style": "IPY_MODEL_e5b17e45ed4a44efab44c45b46436f8c",
            "_dom_classes": [],
            "description": "",
            "_model_name": "FloatProgressModel",
            "bar_style": "",
            "max": 1,
            "_view_module": "@jupyter-widgets/controls",
            "_model_module_version": "1.5.0",
            "value": 1,
            "_view_count": null,
            "_view_module_version": "1.5.0",
            "orientation": "horizontal",
            "min": 0,
            "description_tooltip": null,
            "_model_module": "@jupyter-widgets/controls",
            "layout": "IPY_MODEL_d72992413cf44ac98900d93f6f55ee4a"
          }
        },
        "41e609af58e946f3b864e60c3b57ae1f": {
          "model_module": "@jupyter-widgets/controls",
          "model_name": "DescriptionStyleModel",
          "model_module_version": "1.5.0",
          "state": {
            "_view_name": "StyleView",
            "_model_name": "DescriptionStyleModel",
            "description_width": "",
            "_view_module": "@jupyter-widgets/base",
            "_model_module_version": "1.5.0",
            "_view_count": null,
            "_view_module_version": "1.2.0",
            "_model_module": "@jupyter-widgets/controls"
          }
        },
        "40a91307fb764bf1818cbca3cd157017": {
          "model_module": "@jupyter-widgets/base",
          "model_name": "LayoutModel",
          "model_module_version": "1.2.0",
          "state": {
            "_view_name": "LayoutView",
            "grid_template_rows": null,
            "right": null,
            "justify_content": null,
            "_view_module": "@jupyter-widgets/base",
            "overflow": null,
            "_model_module_version": "1.2.0",
            "_view_count": null,
            "flex_flow": null,
            "width": null,
            "min_width": null,
            "border": null,
            "align_items": null,
            "bottom": null,
            "_model_module": "@jupyter-widgets/base",
            "top": null,
            "grid_column": null,
            "overflow_y": null,
            "overflow_x": null,
            "grid_auto_flow": null,
            "grid_area": null,
            "grid_template_columns": null,
            "flex": null,
            "_model_name": "LayoutModel",
            "justify_items": null,
            "grid_row": null,
            "max_height": null,
            "align_content": null,
            "visibility": null,
            "align_self": null,
            "height": null,
            "min_height": null,
            "padding": null,
            "grid_auto_rows": null,
            "grid_gap": null,
            "max_width": null,
            "order": null,
            "_view_module_version": "1.2.0",
            "grid_template_areas": null,
            "object_position": null,
            "object_fit": null,
            "grid_auto_columns": null,
            "margin": null,
            "display": null,
            "left": null
          }
        },
        "e5b17e45ed4a44efab44c45b46436f8c": {
          "model_module": "@jupyter-widgets/controls",
          "model_name": "ProgressStyleModel",
          "model_module_version": "1.5.0",
          "state": {
            "_view_name": "StyleView",
            "_model_name": "ProgressStyleModel",
            "description_width": "",
            "_view_module": "@jupyter-widgets/base",
            "_model_module_version": "1.5.0",
            "_view_count": null,
            "_view_module_version": "1.2.0",
            "bar_color": null,
            "_model_module": "@jupyter-widgets/controls"
          }
        },
        "d72992413cf44ac98900d93f6f55ee4a": {
          "model_module": "@jupyter-widgets/base",
          "model_name": "LayoutModel",
          "model_module_version": "1.2.0",
          "state": {
            "_view_name": "LayoutView",
            "grid_template_rows": null,
            "right": null,
            "justify_content": null,
            "_view_module": "@jupyter-widgets/base",
            "overflow": null,
            "_model_module_version": "1.2.0",
            "_view_count": null,
            "flex_flow": null,
            "width": null,
            "min_width": null,
            "border": null,
            "align_items": null,
            "bottom": null,
            "_model_module": "@jupyter-widgets/base",
            "top": null,
            "grid_column": null,
            "overflow_y": null,
            "overflow_x": null,
            "grid_auto_flow": null,
            "grid_area": null,
            "grid_template_columns": null,
            "flex": null,
            "_model_name": "LayoutModel",
            "justify_items": null,
            "grid_row": null,
            "max_height": null,
            "align_content": null,
            "visibility": null,
            "align_self": null,
            "height": null,
            "min_height": null,
            "padding": null,
            "grid_auto_rows": null,
            "grid_gap": null,
            "max_width": null,
            "order": null,
            "_view_module_version": "1.2.0",
            "grid_template_areas": null,
            "object_position": null,
            "object_fit": null,
            "grid_auto_columns": null,
            "margin": null,
            "display": null,
            "left": null
          }
        }
      }
    }
  },
  "cells": [
    {
      "cell_type": "code",
      "metadata": {
        "id": "S-y4aDEzBAZv"
      },
      "source": [
        "%%capture\n",
        "!pip install albumentations --upgrade -qqq"
      ],
      "execution_count": 24,
      "outputs": []
    },
    {
      "cell_type": "code",
      "metadata": {
        "id": "hoQffhorB6_-"
      },
      "source": [
        "import os\n",
        "import pandas as pd\n",
        "import random\n",
        "import matplotlib.pyplot as plt\n",
        "import cv2\n",
        "from torch.utils.data import DataLoader, Dataset\n",
        "import albumentations as A\n",
        "from PIL import Image\n",
        "import numpy as np\n",
        "from torchvision import models\n",
        "from torchsummary import summary\n",
        "import torch\n",
        "from torch import nn\n",
        "from torch.optim import Adam\n",
        "from albumentations.pytorch import ToTensorV2\n",
        "import torch.nn.functional as F"
      ],
      "execution_count": 25,
      "outputs": []
    },
    {
      "cell_type": "code",
      "metadata": {
        "id": "2vmq_Ga9Fai0"
      },
      "source": [
        "old_path = '/content/Images_folder/'"
      ],
      "execution_count": 26,
      "outputs": []
    },
    {
      "cell_type": "code",
      "metadata": {
        "colab": {
          "base_uri": "https://localhost:8080/",
          "height": 206
        },
        "id": "RLvvh-i7FeAf",
        "outputId": "a65e7b2c-4c1b-43c3-a386-dc95ae319cf2"
      },
      "source": [
        "image_name = []\n",
        "for i in os.listdir(old_path):\n",
        "  image_name.append(i)  \n",
        "\n",
        "image_df = pd.DataFrame()\n",
        "image_df['image_names'] = image_name\n",
        "\n",
        "image_df.head()"
      ],
      "execution_count": 27,
      "outputs": [
        {
          "output_type": "execute_result",
          "data": {
            "text/html": [
              "<div>\n",
              "<style scoped>\n",
              "    .dataframe tbody tr th:only-of-type {\n",
              "        vertical-align: middle;\n",
              "    }\n",
              "\n",
              "    .dataframe tbody tr th {\n",
              "        vertical-align: top;\n",
              "    }\n",
              "\n",
              "    .dataframe thead th {\n",
              "        text-align: right;\n",
              "    }\n",
              "</style>\n",
              "<table border=\"1\" class=\"dataframe\">\n",
              "  <thead>\n",
              "    <tr style=\"text-align: right;\">\n",
              "      <th></th>\n",
              "      <th>image_names</th>\n",
              "    </tr>\n",
              "  </thead>\n",
              "  <tbody>\n",
              "    <tr>\n",
              "      <th>0</th>\n",
              "      <td>image2_rotated.jpg</td>\n",
              "    </tr>\n",
              "    <tr>\n",
              "      <th>1</th>\n",
              "      <td>image1_colorchange.jpg</td>\n",
              "    </tr>\n",
              "    <tr>\n",
              "      <th>2</th>\n",
              "      <td>image1_orig.jpg</td>\n",
              "    </tr>\n",
              "    <tr>\n",
              "      <th>3</th>\n",
              "      <td>image2_colorchange.jpg</td>\n",
              "    </tr>\n",
              "    <tr>\n",
              "      <th>4</th>\n",
              "      <td>image1_rotated.jpg</td>\n",
              "    </tr>\n",
              "  </tbody>\n",
              "</table>\n",
              "</div>"
            ],
            "text/plain": [
              "              image_names\n",
              "0      image2_rotated.jpg\n",
              "1  image1_colorchange.jpg\n",
              "2         image1_orig.jpg\n",
              "3  image2_colorchange.jpg\n",
              "4      image1_rotated.jpg"
            ]
          },
          "metadata": {},
          "execution_count": 27
        }
      ]
    },
    {
      "cell_type": "code",
      "metadata": {
        "colab": {
          "base_uri": "https://localhost:8080/",
          "height": 224
        },
        "id": "LSc9QMFHFiG_",
        "outputId": "9fe3372d-0ab3-4c07-93f2-e080b08e66dc"
      },
      "source": [
        "image_df['id'] =  image_df['image_names'].str.split('_', expand=True)[0]\n",
        "image_df['suffix'] = image_df['image_names'].str.split('_', expand=True)[1]\n",
        "print('shape of the input file:', image_df.shape)\n",
        "image_df.head()"
      ],
      "execution_count": 29,
      "outputs": [
        {
          "output_type": "stream",
          "name": "stdout",
          "text": [
            "shape of the input file: (6, 3)\n"
          ]
        },
        {
          "output_type": "execute_result",
          "data": {
            "text/html": [
              "<div>\n",
              "<style scoped>\n",
              "    .dataframe tbody tr th:only-of-type {\n",
              "        vertical-align: middle;\n",
              "    }\n",
              "\n",
              "    .dataframe tbody tr th {\n",
              "        vertical-align: top;\n",
              "    }\n",
              "\n",
              "    .dataframe thead th {\n",
              "        text-align: right;\n",
              "    }\n",
              "</style>\n",
              "<table border=\"1\" class=\"dataframe\">\n",
              "  <thead>\n",
              "    <tr style=\"text-align: right;\">\n",
              "      <th></th>\n",
              "      <th>image_names</th>\n",
              "      <th>id</th>\n",
              "      <th>suffix</th>\n",
              "    </tr>\n",
              "  </thead>\n",
              "  <tbody>\n",
              "    <tr>\n",
              "      <th>0</th>\n",
              "      <td>image2_rotated.jpg</td>\n",
              "      <td>image2</td>\n",
              "      <td>rotated.jpg</td>\n",
              "    </tr>\n",
              "    <tr>\n",
              "      <th>1</th>\n",
              "      <td>image1_colorchange.jpg</td>\n",
              "      <td>image1</td>\n",
              "      <td>colorchange.jpg</td>\n",
              "    </tr>\n",
              "    <tr>\n",
              "      <th>2</th>\n",
              "      <td>image1_orig.jpg</td>\n",
              "      <td>image1</td>\n",
              "      <td>orig.jpg</td>\n",
              "    </tr>\n",
              "    <tr>\n",
              "      <th>3</th>\n",
              "      <td>image2_colorchange.jpg</td>\n",
              "      <td>image2</td>\n",
              "      <td>colorchange.jpg</td>\n",
              "    </tr>\n",
              "    <tr>\n",
              "      <th>4</th>\n",
              "      <td>image1_rotated.jpg</td>\n",
              "      <td>image1</td>\n",
              "      <td>rotated.jpg</td>\n",
              "    </tr>\n",
              "  </tbody>\n",
              "</table>\n",
              "</div>"
            ],
            "text/plain": [
              "              image_names      id           suffix\n",
              "0      image2_rotated.jpg  image2      rotated.jpg\n",
              "1  image1_colorchange.jpg  image1  colorchange.jpg\n",
              "2         image1_orig.jpg  image1         orig.jpg\n",
              "3  image2_colorchange.jpg  image2  colorchange.jpg\n",
              "4      image1_rotated.jpg  image1      rotated.jpg"
            ]
          },
          "metadata": {},
          "execution_count": 29
        }
      ]
    },
    {
      "cell_type": "code",
      "metadata": {
        "id": "nUAcelzLFkZ5",
        "colab": {
          "base_uri": "https://localhost:8080/"
        },
        "outputId": "42dfcca5-97a3-4aba-daa5-8aa11d975dbf"
      },
      "source": [
        "#let's take unique ids from the list\n",
        "unique_id = image_df['id'].unique()\n",
        "print('Total number of unique ids:', len(unique_id))\n",
        "print('\\nList of unique ids:', unique_id)"
      ],
      "execution_count": 31,
      "outputs": [
        {
          "output_type": "stream",
          "name": "stdout",
          "text": [
            "Total number of unique ids: 2\n",
            "\n",
            "List of unique ids: ['image2' 'image1']\n"
          ]
        }
      ]
    },
    {
      "cell_type": "code",
      "metadata": {
        "id": "rlyJWDZMGSFg"
      },
      "source": [
        "PN = []\n",
        "PP = []\n",
        "\n",
        "for i, row in image_df.iterrows():\n",
        "  id = row['id']\n",
        "  sample = row['image_names']\n",
        "\n",
        "  #we need to create two list now\n",
        "  remaining_id = unique_id[unique_id != id]\n",
        "  pos_pair = list(image_df[image_df['id'] == id]['suffix'])\n",
        "  neg_pair = list(image_df[image_df['id'].isin(remaining_id)]['image_names'])\n",
        "\n",
        "  pos = random.sample(pos_pair,3)\n",
        "  neg = random.sample(neg_pair,3)\n",
        "\n",
        "  #now prefix each value with the image identity and form the pairs\n",
        "  pp_sub = [sample + ',' + id + '_' + x for x in pos]\n",
        "  pn_sub = [sample + ',' + x for x in neg]\n",
        "\n",
        "  PP.extend(pp_sub)\n",
        "  PN.extend(pn_sub)"
      ],
      "execution_count": 33,
      "outputs": []
    },
    {
      "cell_type": "code",
      "metadata": {
        "colab": {
          "base_uri": "https://localhost:8080/",
          "height": 206
        },
        "id": "d2Za0iKkGjzM",
        "outputId": "19acee6c-7cb5-4a2d-ff47-14c96d2e58fa"
      },
      "source": [
        "PP_df = pd.DataFrame()\n",
        "PN_df = pd.DataFrame()\n",
        "\n",
        "PP_df['positive_positive'] = PP\n",
        "PN_df['positive_negative'] = PN\n",
        "\n",
        "PP_df = PP_df['positive_positive'].str.split(',', expand=True)\n",
        "PP_df.columns = ['Anchor_image', 'Positive_image']\n",
        "\n",
        "PP_df.head()"
      ],
      "execution_count": 37,
      "outputs": [
        {
          "output_type": "execute_result",
          "data": {
            "text/html": [
              "<div>\n",
              "<style scoped>\n",
              "    .dataframe tbody tr th:only-of-type {\n",
              "        vertical-align: middle;\n",
              "    }\n",
              "\n",
              "    .dataframe tbody tr th {\n",
              "        vertical-align: top;\n",
              "    }\n",
              "\n",
              "    .dataframe thead th {\n",
              "        text-align: right;\n",
              "    }\n",
              "</style>\n",
              "<table border=\"1\" class=\"dataframe\">\n",
              "  <thead>\n",
              "    <tr style=\"text-align: right;\">\n",
              "      <th></th>\n",
              "      <th>Anchor_image</th>\n",
              "      <th>Positive_image</th>\n",
              "    </tr>\n",
              "  </thead>\n",
              "  <tbody>\n",
              "    <tr>\n",
              "      <th>0</th>\n",
              "      <td>image2_rotated.jpg</td>\n",
              "      <td>image2_orig.jpg</td>\n",
              "    </tr>\n",
              "    <tr>\n",
              "      <th>1</th>\n",
              "      <td>image2_rotated.jpg</td>\n",
              "      <td>image2_colorchange.jpg</td>\n",
              "    </tr>\n",
              "    <tr>\n",
              "      <th>2</th>\n",
              "      <td>image2_rotated.jpg</td>\n",
              "      <td>image2_rotated.jpg</td>\n",
              "    </tr>\n",
              "    <tr>\n",
              "      <th>3</th>\n",
              "      <td>image1_colorchange.jpg</td>\n",
              "      <td>image1_colorchange.jpg</td>\n",
              "    </tr>\n",
              "    <tr>\n",
              "      <th>4</th>\n",
              "      <td>image1_colorchange.jpg</td>\n",
              "      <td>image1_orig.jpg</td>\n",
              "    </tr>\n",
              "  </tbody>\n",
              "</table>\n",
              "</div>"
            ],
            "text/plain": [
              "             Anchor_image          Positive_image\n",
              "0      image2_rotated.jpg         image2_orig.jpg\n",
              "1      image2_rotated.jpg  image2_colorchange.jpg\n",
              "2      image2_rotated.jpg      image2_rotated.jpg\n",
              "3  image1_colorchange.jpg  image1_colorchange.jpg\n",
              "4  image1_colorchange.jpg         image1_orig.jpg"
            ]
          },
          "metadata": {},
          "execution_count": 37
        }
      ]
    },
    {
      "cell_type": "code",
      "metadata": {
        "colab": {
          "base_uri": "https://localhost:8080/",
          "height": 206
        },
        "id": "CNCC8kkGGx1a",
        "outputId": "6e1d6307-88d3-43d7-c902-ac3c7828f222"
      },
      "source": [
        "PN_df = PN_df['positive_negative'].str.split(',', expand=True)\n",
        "PN_df.columns = ['Anchor_image', 'Negative_image']\n",
        "\n",
        "PN_df.head()"
      ],
      "execution_count": 38,
      "outputs": [
        {
          "output_type": "execute_result",
          "data": {
            "text/html": [
              "<div>\n",
              "<style scoped>\n",
              "    .dataframe tbody tr th:only-of-type {\n",
              "        vertical-align: middle;\n",
              "    }\n",
              "\n",
              "    .dataframe tbody tr th {\n",
              "        vertical-align: top;\n",
              "    }\n",
              "\n",
              "    .dataframe thead th {\n",
              "        text-align: right;\n",
              "    }\n",
              "</style>\n",
              "<table border=\"1\" class=\"dataframe\">\n",
              "  <thead>\n",
              "    <tr style=\"text-align: right;\">\n",
              "      <th></th>\n",
              "      <th>Anchor_image</th>\n",
              "      <th>Negative_image</th>\n",
              "    </tr>\n",
              "  </thead>\n",
              "  <tbody>\n",
              "    <tr>\n",
              "      <th>0</th>\n",
              "      <td>image2_rotated.jpg</td>\n",
              "      <td>image1_rotated.jpg</td>\n",
              "    </tr>\n",
              "    <tr>\n",
              "      <th>1</th>\n",
              "      <td>image2_rotated.jpg</td>\n",
              "      <td>image1_orig.jpg</td>\n",
              "    </tr>\n",
              "    <tr>\n",
              "      <th>2</th>\n",
              "      <td>image2_rotated.jpg</td>\n",
              "      <td>image1_colorchange.jpg</td>\n",
              "    </tr>\n",
              "    <tr>\n",
              "      <th>3</th>\n",
              "      <td>image1_colorchange.jpg</td>\n",
              "      <td>image2_rotated.jpg</td>\n",
              "    </tr>\n",
              "    <tr>\n",
              "      <th>4</th>\n",
              "      <td>image1_colorchange.jpg</td>\n",
              "      <td>image2_orig.jpg</td>\n",
              "    </tr>\n",
              "  </tbody>\n",
              "</table>\n",
              "</div>"
            ],
            "text/plain": [
              "             Anchor_image          Negative_image\n",
              "0      image2_rotated.jpg      image1_rotated.jpg\n",
              "1      image2_rotated.jpg         image1_orig.jpg\n",
              "2      image2_rotated.jpg  image1_colorchange.jpg\n",
              "3  image1_colorchange.jpg      image2_rotated.jpg\n",
              "4  image1_colorchange.jpg         image2_orig.jpg"
            ]
          },
          "metadata": {},
          "execution_count": 38
        }
      ]
    },
    {
      "cell_type": "code",
      "metadata": {
        "colab": {
          "base_uri": "https://localhost:8080/",
          "height": 206
        },
        "id": "KGBCNrPfG6UQ",
        "outputId": "98a26cbb-8393-448d-f62d-0c2109259299"
      },
      "source": [
        "image_df = PP_df.join(PN_df['Negative_image'])\n",
        "image_df.head()"
      ],
      "execution_count": 40,
      "outputs": [
        {
          "output_type": "execute_result",
          "data": {
            "text/html": [
              "<div>\n",
              "<style scoped>\n",
              "    .dataframe tbody tr th:only-of-type {\n",
              "        vertical-align: middle;\n",
              "    }\n",
              "\n",
              "    .dataframe tbody tr th {\n",
              "        vertical-align: top;\n",
              "    }\n",
              "\n",
              "    .dataframe thead th {\n",
              "        text-align: right;\n",
              "    }\n",
              "</style>\n",
              "<table border=\"1\" class=\"dataframe\">\n",
              "  <thead>\n",
              "    <tr style=\"text-align: right;\">\n",
              "      <th></th>\n",
              "      <th>Anchor_image</th>\n",
              "      <th>Positive_image</th>\n",
              "      <th>Negative_image</th>\n",
              "    </tr>\n",
              "  </thead>\n",
              "  <tbody>\n",
              "    <tr>\n",
              "      <th>0</th>\n",
              "      <td>image2_rotated.jpg</td>\n",
              "      <td>image2_orig.jpg</td>\n",
              "      <td>image1_rotated.jpg</td>\n",
              "    </tr>\n",
              "    <tr>\n",
              "      <th>1</th>\n",
              "      <td>image2_rotated.jpg</td>\n",
              "      <td>image2_colorchange.jpg</td>\n",
              "      <td>image1_orig.jpg</td>\n",
              "    </tr>\n",
              "    <tr>\n",
              "      <th>2</th>\n",
              "      <td>image2_rotated.jpg</td>\n",
              "      <td>image2_rotated.jpg</td>\n",
              "      <td>image1_colorchange.jpg</td>\n",
              "    </tr>\n",
              "    <tr>\n",
              "      <th>3</th>\n",
              "      <td>image1_colorchange.jpg</td>\n",
              "      <td>image1_colorchange.jpg</td>\n",
              "      <td>image2_rotated.jpg</td>\n",
              "    </tr>\n",
              "    <tr>\n",
              "      <th>4</th>\n",
              "      <td>image1_colorchange.jpg</td>\n",
              "      <td>image1_orig.jpg</td>\n",
              "      <td>image2_orig.jpg</td>\n",
              "    </tr>\n",
              "  </tbody>\n",
              "</table>\n",
              "</div>"
            ],
            "text/plain": [
              "             Anchor_image          Positive_image          Negative_image\n",
              "0      image2_rotated.jpg         image2_orig.jpg      image1_rotated.jpg\n",
              "1      image2_rotated.jpg  image2_colorchange.jpg         image1_orig.jpg\n",
              "2      image2_rotated.jpg      image2_rotated.jpg  image1_colorchange.jpg\n",
              "3  image1_colorchange.jpg  image1_colorchange.jpg      image2_rotated.jpg\n",
              "4  image1_colorchange.jpg         image1_orig.jpg         image2_orig.jpg"
            ]
          },
          "metadata": {},
          "execution_count": 40
        }
      ]
    },
    {
      "cell_type": "code",
      "metadata": {
        "colab": {
          "base_uri": "https://localhost:8080/"
        },
        "id": "gJP_LmuzHBbQ",
        "outputId": "06c74b22-9c5a-447a-b7ec-354a2ab80018"
      },
      "source": [
        "print('Total count:', image_df.shape[0])"
      ],
      "execution_count": 41,
      "outputs": [
        {
          "output_type": "stream",
          "name": "stdout",
          "text": [
            "Total count: 18\n"
          ]
        }
      ]
    },
    {
      "cell_type": "code",
      "metadata": {
        "id": "DJSYjex2HEob"
      },
      "source": [
        "folder_dir = '/content/Images_folder/'\n",
        "\n",
        "#defining custom dataset for the specific requirement\n",
        "class TrainDataset(Dataset):\n",
        "  def __init__(self, image_file, folder_dir, transform):\n",
        "    \n",
        "    '''\n",
        "    Read the csv file and set the corresponding variables\n",
        "    '''\n",
        "    self.image_df = image_file    \n",
        "    self.folder_dir = folder_dir\n",
        "    self.transform = transform\n",
        "\n",
        "  def __len__(self):\n",
        "    '''\n",
        "    Defining the length of the dataset\n",
        "    '''    \n",
        "    return len(self.image_df)\n",
        "\n",
        "  def __getitem__(self, idx):\n",
        "    '''\n",
        "    Process the images from the dataset\n",
        "    Perform the transformation and return the result to the dataloader\n",
        "    '''       \n",
        "    anchor_name = self.image_df.loc[idx, 'Anchor_image']    \n",
        "    positive_name = self.image_df.loc[idx, 'Positive_image']\n",
        "    negative_name = self.image_df.loc[idx, 'Negative_image']    \n",
        "\n",
        "    anchor_image = np.array(Image.open(folder_dir + anchor_name))\n",
        "    positive_image = np.array(Image.open(folder_dir + positive_name))\n",
        "    negative_image = np.array(Image.open(folder_dir + negative_name))\n",
        "\n",
        "    anchor = self.transform(image = anchor_image)\n",
        "    positive = self.transform(image = positive_image)\n",
        "    negative = self.transform(image = negative_image)\n",
        "\n",
        "    return (anchor, positive, negative)"
      ],
      "execution_count": 43,
      "outputs": []
    },
    {
      "cell_type": "code",
      "metadata": {
        "id": "-fq-snm9HPaj"
      },
      "source": [
        "train_transform = A.Compose([\n",
        "A.Resize(width=224, height=224),\n",
        "A.Rotate(limit=10, p=0.9, border_mode=cv2.BORDER_CONSTANT),\n",
        "A.RandomBrightnessContrast(),\n",
        "#A.HorizontalFlip(p=0.5),\n",
        "#A.RGBShift(r_shift_limit=25, g_shift_limit=25, b_shift_limit=25, p=0.9),\n",
        "A.Normalize(mean=(0.485, 0.456, 0.406), std=(0.229, 0.224, 0.225)),\n",
        "ToTensorV2(),])"
      ],
      "execution_count": 44,
      "outputs": []
    },
    {
      "cell_type": "code",
      "metadata": {
        "id": "OjbSXQGgHin0"
      },
      "source": [
        "train_data = TrainDataset(image_df, folder_dir, train_transform)\n",
        "train_loader = DataLoader(train_data, batch_size = 16, shuffle=True)"
      ],
      "execution_count": 45,
      "outputs": []
    },
    {
      "cell_type": "code",
      "metadata": {
        "colab": {
          "base_uri": "https://localhost:8080/",
          "height": 266,
          "referenced_widgets": [
            "78bc39781abf4f25911543f9b581d1ca",
            "fa63ce6b735d4bbb9cc9566b92367f6b",
            "98decf99259f44e897fe71bdbf1b792a",
            "9c6f5f19264744988c6060d5ee3e6b08",
            "b69a925fa8314fda991efe1e583b3ca9",
            "1cc81550bd3b4889b15e0f0ae9ad8517",
            "cf8e6be6b9c74d0594d86132d4d7002b",
            "ae357852f05d4bd481cc1c6169b6a1c9",
            "e430f4b027ae4b14a91483049d781a60",
            "b08f65f4530247dcada5e14a6ebd7079",
            "bea37913627a485298a793ba4310972c"
          ]
        },
        "id": "dZT2qOU_HlZj",
        "outputId": "93d1b086-cb54-458c-9dca-86c53a14f1cc"
      },
      "source": [
        "#define a siamese network using ResNet152\n",
        "custom_model = models.resnet152(pretrained=True)\n",
        "\n",
        "#display the names of the individual blocks\n",
        "for name, model in custom_model.named_children():\n",
        "  print(name)"
      ],
      "execution_count": 46,
      "outputs": [
        {
          "output_type": "stream",
          "name": "stderr",
          "text": [
            "Downloading: \"https://download.pytorch.org/models/resnet152-394f9c45.pth\" to /root/.cache/torch/hub/checkpoints/resnet152-394f9c45.pth\n"
          ]
        },
        {
          "output_type": "display_data",
          "data": {
            "application/vnd.jupyter.widget-view+json": {
              "model_id": "78bc39781abf4f25911543f9b581d1ca",
              "version_minor": 0,
              "version_major": 2
            },
            "text/plain": [
              "  0%|          | 0.00/230M [00:00<?, ?B/s]"
            ]
          },
          "metadata": {}
        },
        {
          "output_type": "stream",
          "name": "stdout",
          "text": [
            "conv1\n",
            "bn1\n",
            "relu\n",
            "maxpool\n",
            "layer1\n",
            "layer2\n",
            "layer3\n",
            "layer4\n",
            "avgpool\n",
            "fc\n"
          ]
        }
      ]
    },
    {
      "cell_type": "code",
      "metadata": {
        "colab": {
          "base_uri": "https://localhost:8080/"
        },
        "id": "v-6KpvE0HnEH",
        "outputId": "f2c150f3-4261-4e78-de7b-93b32fad10a1"
      },
      "source": [
        "#the last layer is the one we want to modify to 128 as this will be used for distance metric comparison\n",
        "custom_model.fc"
      ],
      "execution_count": 47,
      "outputs": [
        {
          "output_type": "execute_result",
          "data": {
            "text/plain": [
              "Linear(in_features=2048, out_features=1000, bias=True)"
            ]
          },
          "metadata": {},
          "execution_count": 47
        }
      ]
    },
    {
      "cell_type": "code",
      "metadata": {
        "colab": {
          "base_uri": "https://localhost:8080/"
        },
        "id": "Sym-iAeaHqJp",
        "outputId": "303be1e8-2d67-455c-9ca9-4f0153a7a07e"
      },
      "source": [
        "in_ftrs = custom_model.fc.in_features\n",
        "out_ftrs = custom_model.fc.out_features\n",
        "print('number of input features of the model:', in_ftrs)\n",
        "print('number of output features of the model:', out_ftrs )"
      ],
      "execution_count": 48,
      "outputs": [
        {
          "output_type": "stream",
          "name": "stdout",
          "text": [
            "number of input features of the model: 2048\n",
            "number of output features of the model: 1000\n"
          ]
        }
      ]
    },
    {
      "cell_type": "code",
      "metadata": {
        "id": "Uv2wh56GHrlc"
      },
      "source": [
        "#now update the last layer output to a length of 128\n",
        "custom_model.fc = nn.Linear(in_ftrs, 128)"
      ],
      "execution_count": 49,
      "outputs": []
    },
    {
      "cell_type": "code",
      "metadata": {
        "colab": {
          "base_uri": "https://localhost:8080/"
        },
        "id": "fyIYnoj1Htcn",
        "outputId": "76a0a419-84bc-4e1c-b910-69a68fb31549"
      },
      "source": [
        "#print the updated model\n",
        "custom_model.fc"
      ],
      "execution_count": 50,
      "outputs": [
        {
          "output_type": "execute_result",
          "data": {
            "text/plain": [
              "Linear(in_features=2048, out_features=128, bias=True)"
            ]
          },
          "metadata": {},
          "execution_count": 50
        }
      ]
    },
    {
      "cell_type": "code",
      "metadata": {
        "id": "7NCz4ZYfHuw6"
      },
      "source": [
        "device = torch.device(\"cuda\" if torch.cuda.is_available() else \"cpu\")\n",
        "\n",
        "#converting to cuda format\n",
        "custom_model = custom_model.to(device)"
      ],
      "execution_count": 51,
      "outputs": []
    },
    {
      "cell_type": "code",
      "metadata": {
        "id": "Jzv4_3iEHwOT"
      },
      "source": [
        "#define triplet loss function\n",
        "class triplet_loss(nn.Module):\n",
        "  def __init__(self):\n",
        "    super(triplet_loss, self).__init__()\n",
        "    self.margin = 1\n",
        "  \n",
        "  def forward(self, anchor, positive, negative):\n",
        "    pos_dist = (anchor - positive).pow(2).sum(1)\n",
        "    neg_dist = (anchor - negative).pow(2).sum(1)\n",
        "    loss = F.relu(pos_dist - neg_dist + self.margin)\n",
        "    return loss.mean()"
      ],
      "execution_count": 72,
      "outputs": []
    },
    {
      "cell_type": "code",
      "metadata": {
        "id": "wp_s3SyMHyuS"
      },
      "source": [
        "def train_accuracy(model, train_loader):\n",
        "  #set the model in the evaluation mode\n",
        "  model.eval()\n",
        "\n",
        "  margin = 1\n",
        "\n",
        "  total_accuracy = 0\n",
        "\n",
        "  with torch.no_grad():\n",
        "    for i, (anchor, positive, negative) in enumerate(train_loader):\n",
        "      anchor = anchor['image'].to(device)\n",
        "      positive = positive['image'].to(device)\n",
        "      negative = negative['image'].to(device)\n",
        "\n",
        "      anchor_feature = custom_model(anchor)\n",
        "      positive_feature = custom_model(positive)\n",
        "      negative_feature = custom_model(negative)\n",
        "\n",
        "      pos_dist = (anchor_feature - positive_feature).pow(2).sum(1)\n",
        "      neg_dist = (anchor_feature - negative_feature).pow(2).sum(1)     \n",
        "      \n",
        "      pos_neg_diff = (pos_dist - neg_dist + margin).cpu().data      \n",
        "\n",
        "      total_accuracy += (pos_neg_diff <= 0).sum()*1.0/pos_dist.size()[0]\n",
        "\n",
        "  return total_accuracy"
      ],
      "execution_count": 78,
      "outputs": []
    },
    {
      "cell_type": "code",
      "metadata": {
        "id": "UksVeaKkH7ke"
      },
      "source": [
        "%%capture\n",
        "!pip install wandb"
      ],
      "execution_count": 79,
      "outputs": []
    },
    {
      "cell_type": "code",
      "metadata": {
        "id": "hKHXWBWbIA5u"
      },
      "source": [
        "import wandb"
      ],
      "execution_count": 80,
      "outputs": []
    },
    {
      "cell_type": "code",
      "metadata": {
        "colab": {
          "base_uri": "https://localhost:8080/",
          "height": 734,
          "referenced_widgets": [
            "523ae26dbdf74dd58da4b7809c4f67fe",
            "c23fbf50dafd4495911bf8c5f00c07d3",
            "94b66184ad344dda88f24c6ed33c38a1",
            "c93a1df0d27f41dc8a6c6dda5b78d92e",
            "41e609af58e946f3b864e60c3b57ae1f",
            "40a91307fb764bf1818cbca3cd157017",
            "e5b17e45ed4a44efab44c45b46436f8c",
            "d72992413cf44ac98900d93f6f55ee4a"
          ]
        },
        "id": "P2Q3clJVIDW6",
        "outputId": "75a7a0fd-a866-433a-abf7-32f02cb40d25"
      },
      "source": [
        "#logon to the wandb\n",
        "wandb.login()\n",
        "wandb.init(project='Siamese_wandbtrail')"
      ],
      "execution_count": 77,
      "outputs": [
        {
          "output_type": "stream",
          "name": "stderr",
          "text": [
            "\u001b[34m\u001b[1mwandb\u001b[0m: \u001b[33mWARNING\u001b[0m Calling wandb.login() after wandb.init() has no effect.\n"
          ]
        },
        {
          "output_type": "display_data",
          "data": {
            "text/html": [
              "Finishing last run (ID:3g75hz0j) before initializing another..."
            ],
            "text/plain": [
              "<IPython.core.display.HTML object>"
            ]
          },
          "metadata": {}
        },
        {
          "output_type": "display_data",
          "data": {
            "text/html": [
              "<br/>Waiting for W&B process to finish, PID 914... <strong style=\"color:green\">(success).</strong>"
            ],
            "text/plain": [
              "<IPython.core.display.HTML object>"
            ]
          },
          "metadata": {}
        },
        {
          "output_type": "display_data",
          "data": {
            "application/vnd.jupyter.widget-view+json": {
              "model_id": "523ae26dbdf74dd58da4b7809c4f67fe",
              "version_minor": 0,
              "version_major": 2
            },
            "text/plain": [
              "VBox(children=(Label(value=' 0.00MB of 0.00MB uploaded (0.00MB deduped)\\r'), FloatProgress(value=1.0, max=1.0)…"
            ]
          },
          "metadata": {}
        },
        {
          "output_type": "display_data",
          "data": {
            "text/html": [
              "<style>\n",
              "    table.wandb td:nth-child(1) { padding: 0 10px; text-align: right }\n",
              "    .wandb-row { display: flex; flex-direction: row; flex-wrap: wrap; width: 100% }\n",
              "    .wandb-col { display: flex; flex-direction: column; flex-basis: 100%; flex: 1; padding: 10px; }\n",
              "    </style>\n",
              "<div class=\"wandb-row\"><div class=\"wandb-col\">\n",
              "<h3>Run history:</h3><br/><table class=\"wandb\"><tr><td>accuracy</td><td>▅███▂▇██▁███▁▁██████</td></tr><tr><td>loss</td><td>▁▁▁▁▁▃▁▂▁▁█▁▁▁▁▂▁▁▁▂</td></tr></table><br/></div><div class=\"wandb-col\">\n",
              "<h3>Run summary:</h3><br/><table class=\"wandb\"><tr><td>accuracy</td><td>1.0</td></tr><tr><td>loss</td><td>1.65721</td></tr></table>\n",
              "</div></div>\n",
              "Synced 5 W&B file(s), 0 media file(s), 0 artifact file(s) and 0 other file(s)\n",
              "<br/>Synced <strong style=\"color:#cdcd00\">visionary-silence-1</strong>: <a href=\"https://wandb.ai/nandhini97/Siamese_wandb_trail/runs/3g75hz0j\" target=\"_blank\">https://wandb.ai/nandhini97/Siamese_wandb_trail/runs/3g75hz0j</a><br/>\n",
              "Find logs at: <code>./wandb/run-20211003_080913-3g75hz0j/logs</code><br/>\n"
            ],
            "text/plain": [
              "<IPython.core.display.HTML object>"
            ]
          },
          "metadata": {}
        },
        {
          "output_type": "display_data",
          "data": {
            "text/html": [
              "Successfully finished last run (ID:3g75hz0j). Initializing new run:<br/>"
            ],
            "text/plain": [
              "<IPython.core.display.HTML object>"
            ]
          },
          "metadata": {}
        },
        {
          "output_type": "display_data",
          "data": {
            "text/html": [
              "\n",
              "                    Syncing run <strong><a href=\"https://wandb.ai/nandhini97/Siamese_wandbtrail/runs/fb8qzw08\" target=\"_blank\">lively-pyramid-1</a></strong> to <a href=\"https://wandb.ai/nandhini97/Siamese_wandbtrail\" target=\"_blank\">Weights & Biases</a> (<a href=\"https://docs.wandb.com/integrations/jupyter.html\" target=\"_blank\">docs</a>).<br/>\n",
              "\n",
              "                "
            ],
            "text/plain": [
              "<IPython.core.display.HTML object>"
            ]
          },
          "metadata": {}
        },
        {
          "output_type": "execute_result",
          "data": {
            "text/plain": [
              "<wandb.sdk.wandb_run.Run at 0x7f09e03746d0>"
            ],
            "text/html": [
              "<button onClick=\"this.nextSibling.style.display='block';this.style.display='none';\">Display W&B run</button><iframe src=\"https://wandb.ai/nandhini97/Siamese_wandbtrail/runs/fb8qzw08?jupyter=true\" style=\"border:none;width:100%;height:420px;display:none;\"></iframe>"
            ]
          },
          "metadata": {},
          "execution_count": 77
        }
      ]
    },
    {
      "cell_type": "code",
      "metadata": {
        "colab": {
          "base_uri": "https://localhost:8080/"
        },
        "id": "d9IZGFvGIG5y",
        "outputId": "d4a19e04-64b9-4db5-fc04-ee2a9df92737"
      },
      "source": [
        "loss_fun = triplet_loss()\n",
        "optimizer = Adam(custom_model.parameters(), lr = 0.0001)\n",
        "custom_model.train()\n",
        "wandb_log = {}\n",
        "\n",
        "for epoch in range(10):\n",
        "  total_loss = 0\n",
        "  accuracy = 0\n",
        "  for i, (anchor, positive, negative) in enumerate(train_loader):\n",
        "    anchor = anchor['image'].to(device)\n",
        "    positive = positive['image'].to(device)\n",
        "    negative = negative['image'].to(device)\n",
        "\n",
        "    anchor_feature = custom_model(anchor)\n",
        "    positive_feature = custom_model(positive)\n",
        "    negative_feature = custom_model(negative)\n",
        "\n",
        "    optimizer.zero_grad()\n",
        "    loss = loss_fun(anchor_feature, positive_feature, negative_feature)\n",
        "    loss.backward()\n",
        "    optimizer.step()      \n",
        "    \n",
        "    total_loss += loss\n",
        "  \n",
        "  print('total loss for the epoch %d'%epoch, total_loss.item()/2)\n",
        "  wandb_log['loss'] = total_loss.item()/2\n",
        "\n",
        "  accuracy = train_accuracy(model, train_loader)\n",
        "  print('accuracy for the epoch %d'%epoch, accuracy/2)\n",
        "  wandb_log['accuracy'] = accuracy/2\n",
        "\n",
        "  wandb.log(wandb_log)  "
      ],
      "execution_count": 81,
      "outputs": [
        {
          "output_type": "stream",
          "name": "stdout",
          "text": [
            "total loss for the epoch 0 0.39048638939857483\n",
            "accuracy for the epoch 0 tensor(1.)\n",
            "total loss for the epoch 1 0.0\n",
            "accuracy for the epoch 1 tensor(0.4688)\n",
            "total loss for the epoch 2 0.16112101078033447\n",
            "accuracy for the epoch 2 tensor(1.)\n",
            "total loss for the epoch 3 0.0\n",
            "accuracy for the epoch 3 tensor(1.)\n",
            "total loss for the epoch 4 0.0\n",
            "accuracy for the epoch 4 tensor(0.5000)\n",
            "total loss for the epoch 5 0.0\n",
            "accuracy for the epoch 5 tensor(0.4688)\n",
            "total loss for the epoch 6 0.0\n",
            "accuracy for the epoch 6 tensor(1.)\n",
            "total loss for the epoch 7 2.34348726272583\n",
            "accuracy for the epoch 7 tensor(1.)\n",
            "total loss for the epoch 8 0.0\n",
            "accuracy for the epoch 8 tensor(0.9688)\n",
            "total loss for the epoch 9 0.178547203540802\n",
            "accuracy for the epoch 9 tensor(0.9375)\n"
          ]
        }
      ]
    },
    {
      "cell_type": "code",
      "metadata": {
        "id": "_iQH-OzFJUgu"
      },
      "source": [
        ""
      ],
      "execution_count": null,
      "outputs": []
    }
  ]
}